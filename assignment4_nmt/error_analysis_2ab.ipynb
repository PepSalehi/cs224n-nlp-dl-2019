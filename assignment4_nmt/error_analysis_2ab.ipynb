{
 "cells": [
  {
   "cell_type": "markdown",
   "metadata": {},
   "source": [
    "#  error in the NMT translation"
   ]
  },
  {
   "cell_type": "markdown",
   "metadata": {},
   "source": [
    "- **Source Sentence:** Aqu ́ı otro de mis favoritos, “La noche estrellada”. \n",
    "- **Reference Translation:** So another one of my favorites, “The Starry Night”. \n",
    "- **NMT Translation:** Here’s another favorite of my favorites, “The Starry Night”."
   ]
  },
  {
   "cell_type": "markdown",
   "metadata": {},
   "source": [
    "*Possible mistake:* we use 2 `favorite` in the same text. We have to increase our training corpus to incorporate some examples when `one` is used in this situation."
   ]
  },
  {
   "cell_type": "markdown",
   "metadata": {},
   "source": [
    "- **Source Sentence:** Ustedes saben que lo que yo hago es escribir para los nin ̃os, y, de hecho, probablemente soy el autor para nin ̃os, ms ledo en los EEUU.\n",
    "- **Reference Translation:** You know, what I do is write for children, and I’m probably America’s most widely read children’s author, in fact.\n",
    "- **NMT Translation:** You know what I do is write for children, and in fact, I’m probably the author for children, more reading in the U.S."
   ]
  },
  {
   "cell_type": "markdown",
   "metadata": {},
   "source": [
    "*Possible mistake:* it doesn't distinguish `more` and `most`, so we need more training examples with such forms."
   ]
  },
  {
   "cell_type": "markdown",
   "metadata": {},
   "source": [
    "- **Source Sentence:** Un amigo me hizo eso – Richard Bolingbroke.\n",
    "- **Reference Translation:** A friend of mine did that – Richard Bolingbroke.\n",
    "- **NMT Translation:** A friend of mine did that – Richard `<unk>`"
   ]
  },
  {
   "cell_type": "markdown",
   "metadata": {},
   "source": [
    "*Possible mistake:* our `NMT` model doesn't know this surname, we have to use some technique to solve this problem in models that use word embeddings (for example, just tranfer this surname); or try to use another class of models - that uses char embeddings like in A5."
   ]
  },
  {
   "cell_type": "markdown",
   "metadata": {},
   "source": [
    "- **Source Sentence:** Solo tienes que dar vuelta a la manzana para verlo como una epifan ́ıa.\n",
    "- **Reference Translation:** You’ve just got to go around the block to see it as an epiphany. \n",
    "- **NMT Translation:** You just have to go back to the apple to see it as a epiphany."
   ]
  },
  {
   "cell_type": "markdown",
   "metadata": {},
   "source": [
    "*Possible mistake:* in fact even Google translate makes the similar mistake. Probably we need some training on different collocations."
   ]
  },
  {
   "cell_type": "markdown",
   "metadata": {},
   "source": [
    "- **Source Sentence:** Ella salv ́o mi vida al permitirme entrar al ban ̃o de la sala de profesores.\n",
    "- **Reference Translation:** She saved my life by letting me go to the bathroom in the teachers’ lounge.\n",
    "- **NMT Translation:** She saved my life by letting me go to the bathroom in the women’s room."
   ]
  },
  {
   "cell_type": "markdown",
   "metadata": {},
   "source": [
    "*Possible mistake:* it looks like this one is about bias. Again we need to train the model on unbiased examples."
   ]
  },
  {
   "cell_type": "markdown",
   "metadata": {},
   "source": [
    "- **Source Sentence:** Eso es ma ́s de 100,000 hect ́areas. \n",
    "- **Reference Translation:** That’s more than 250 thousand acres. \n",
    "- **NMT Translation:** That’s over 100,000 acres."
   ]
  },
  {
   "cell_type": "markdown",
   "metadata": {},
   "source": [
    "*Possible mistake:* again even Google translate makes this mistake. `acres` is translated as `hectáreas`. We need to add more examples with different measure systems."
   ]
  },
  {
   "cell_type": "code",
   "execution_count": null,
   "metadata": {},
   "outputs": [],
   "source": []
  },
  {
   "cell_type": "code",
   "execution_count": null,
   "metadata": {},
   "outputs": [],
   "source": []
  },
  {
   "cell_type": "code",
   "execution_count": null,
   "metadata": {},
   "outputs": [],
   "source": []
  },
  {
   "cell_type": "code",
   "execution_count": null,
   "metadata": {},
   "outputs": [],
   "source": []
  },
  {
   "cell_type": "code",
   "execution_count": null,
   "metadata": {},
   "outputs": [],
   "source": []
  }
 ],
 "metadata": {
  "kernelspec": {
   "display_name": "Python 3",
   "language": "python",
   "name": "python3"
  },
  "language_info": {
   "codemirror_mode": {
    "name": "ipython",
    "version": 3
   },
   "file_extension": ".py",
   "mimetype": "text/x-python",
   "name": "python",
   "nbconvert_exporter": "python",
   "pygments_lexer": "ipython3",
   "version": "3.6.9"
  }
 },
 "nbformat": 4,
 "nbformat_minor": 2
}
