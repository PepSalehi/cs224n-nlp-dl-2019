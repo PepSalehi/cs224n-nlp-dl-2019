{
 "cells": [
  {
   "cell_type": "markdown",
   "metadata": {},
   "source": [
    "We train this model in `Google Cloud instance` with `NVIDIA Tesla P4` GPU (`time elapsed 10775.20 sec` or `2h 59.5min`). We hit early stop after `epoch` `13` and got `Corpus BLEU 22.3`."
   ]
  },
  {
   "cell_type": "markdown",
   "metadata": {},
   "source": [
    "`.......\n",
    "epoch 13, iter 86000, cum. loss 28.94, cum. ppl 5.13 cum. examples 64000\n",
    "begin validation ...\n",
    "validation: iter 86000, dev. ppl 17.368404\n",
    "hit patience 5\n",
    "hit #5 trial\n",
    "early stop!`"
   ]
  },
  {
   "cell_type": "code",
   "execution_count": 2,
   "metadata": {},
   "outputs": [
    {
     "data": {
      "text/plain": [
       "10740"
      ]
     },
     "execution_count": 2,
     "metadata": {},
     "output_type": "execute_result"
    }
   ],
   "source": [
    "3600 * 2 + 60 * 59"
   ]
  },
  {
   "cell_type": "markdown",
   "metadata": {},
   "source": [
    "`Corpus BLEU: 22.36579929869114`"
   ]
  },
  {
   "cell_type": "code",
   "execution_count": null,
   "metadata": {},
   "outputs": [],
   "source": []
  },
  {
   "cell_type": "code",
   "execution_count": null,
   "metadata": {},
   "outputs": [],
   "source": []
  },
  {
   "cell_type": "code",
   "execution_count": null,
   "metadata": {},
   "outputs": [],
   "source": []
  }
 ],
 "metadata": {
  "kernelspec": {
   "display_name": "Python 3",
   "language": "python",
   "name": "python3"
  },
  "language_info": {
   "codemirror_mode": {
    "name": "ipython",
    "version": 3
   },
   "file_extension": ".py",
   "mimetype": "text/x-python",
   "name": "python",
   "nbconvert_exporter": "python",
   "pygments_lexer": "ipython3",
   "version": "3.6.9"
  }
 },
 "nbformat": 4,
 "nbformat_minor": 2
}
