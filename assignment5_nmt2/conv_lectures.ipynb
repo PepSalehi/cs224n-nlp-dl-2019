{
 "cells": [
  {
   "cell_type": "code",
   "execution_count": 52,
   "metadata": {},
   "outputs": [],
   "source": [
    "import numpy as np\n",
    "import math"
   ]
  },
  {
   "cell_type": "markdown",
   "metadata": {},
   "source": [
    "## 1D convolution for text"
   ]
  },
  {
   "cell_type": "code",
   "execution_count": 2,
   "metadata": {},
   "outputs": [],
   "source": [
    "text = np.array([\n",
    "    [.2, .1, -.3, .4],\n",
    "    [.5, .2, -.3, -.1],\n",
    "    [-.1, -.3, -.2, .4],\n",
    "    [.3, -.3, .1, .1],\n",
    "    [.2, -.3, .4, .2],\n",
    "    [.1, .2, -.1, -.1],\n",
    "    [-.4, -.4, .2, .3]\n",
    "])"
   ]
  },
  {
   "cell_type": "code",
   "execution_count": 4,
   "metadata": {},
   "outputs": [],
   "source": [
    "kernel = np.array([\n",
    "    [3, 1, 2, -3],\n",
    "    [-1, 2, 1, -3],\n",
    "    [1, 1, -1, 1]\n",
    "])"
   ]
  },
  {
   "cell_type": "code",
   "execution_count": 25,
   "metadata": {},
   "outputs": [],
   "source": [
    "def get_conv(t, ks):\n",
    "    return [[np.around(np.sum(t[i:i+3, :] * k), decimals=1) \n",
    "            for k in ks] \n",
    "            for i in range(t.shape[0] - 2)\n",
    "            ]"
   ]
  },
  {
   "cell_type": "code",
   "execution_count": 26,
   "metadata": {},
   "outputs": [
    {
     "data": {
      "text/plain": [
       "[[-1.0], [-0.5], [-3.6], [-0.2], [0.3]]"
      ]
     },
     "execution_count": 26,
     "metadata": {},
     "output_type": "execute_result"
    }
   ],
   "source": [
    "get_conv(text, [kernel])"
   ]
  },
  {
   "cell_type": "markdown",
   "metadata": {},
   "source": [
    "## 1D convolution with padding"
   ]
  },
  {
   "cell_type": "code",
   "execution_count": 15,
   "metadata": {},
   "outputs": [],
   "source": [
    "text_pad = np.zeros((text.shape[0] + 2, text.shape[1]))"
   ]
  },
  {
   "cell_type": "code",
   "execution_count": 16,
   "metadata": {},
   "outputs": [
    {
     "data": {
      "text/plain": [
       "((7, 4), (9, 4))"
      ]
     },
     "execution_count": 16,
     "metadata": {},
     "output_type": "execute_result"
    }
   ],
   "source": [
    "text.shape, text_pad.shape"
   ]
  },
  {
   "cell_type": "code",
   "execution_count": 18,
   "metadata": {},
   "outputs": [],
   "source": [
    "text_pad[1:8, :] = text.copy()"
   ]
  },
  {
   "cell_type": "code",
   "execution_count": 19,
   "metadata": {},
   "outputs": [
    {
     "data": {
      "text/plain": [
       "array([[ 0. ,  0. ,  0. ,  0. ],\n",
       "       [ 0.2,  0.1, -0.3,  0.4],\n",
       "       [ 0.5,  0.2, -0.3, -0.1],\n",
       "       [-0.1, -0.3, -0.2,  0.4],\n",
       "       [ 0.3, -0.3,  0.1,  0.1],\n",
       "       [ 0.2, -0.3,  0.4,  0.2],\n",
       "       [ 0.1,  0.2, -0.1, -0.1],\n",
       "       [-0.4, -0.4,  0.2,  0.3],\n",
       "       [ 0. ,  0. ,  0. ,  0. ]])"
      ]
     },
     "execution_count": 19,
     "metadata": {},
     "output_type": "execute_result"
    }
   ],
   "source": [
    "text_pad"
   ]
  },
  {
   "cell_type": "code",
   "execution_count": 27,
   "metadata": {},
   "outputs": [
    {
     "data": {
      "text/plain": [
       "[[-0.6], [-1.0], [-0.5], [-3.6], [-0.2], [0.3], [-0.5]]"
      ]
     },
     "execution_count": 27,
     "metadata": {},
     "output_type": "execute_result"
    }
   ],
   "source": [
    "get_conv(text_pad, [kernel])"
   ]
  },
  {
   "cell_type": "markdown",
   "metadata": {},
   "source": [
    "## 3 channel 1D convolution with padding"
   ]
  },
  {
   "cell_type": "code",
   "execution_count": 28,
   "metadata": {},
   "outputs": [],
   "source": [
    "kernels = np.array([\n",
    "    [[3, 1, 2, -3], [-1, 2, 1, -3], [1, 1, -1, 1]],\n",
    "    [[1, 0, 0, 1], [1, 0, -1, -1], [0, 1, 0, 1]],\n",
    "    [[1, -1, 2, -1], [1, 0, -1, 3], [0, 2, 2, 1]]\n",
    "])"
   ]
  },
  {
   "cell_type": "code",
   "execution_count": 31,
   "metadata": {},
   "outputs": [],
   "source": [
    "conv_1D3C = get_conv(text_pad, kernels)"
   ]
  },
  {
   "cell_type": "code",
   "execution_count": 32,
   "metadata": {},
   "outputs": [
    {
     "data": {
      "text/plain": [
       "[[-0.6, 0.2, 1.4],\n",
       " [-1.0, 1.6, -1.0],\n",
       " [-0.5, -0.1, 0.8],\n",
       " [-3.6, 0.3, 0.3],\n",
       " [-0.2, 0.1, 1.2],\n",
       " [0.3, 0.6, 0.9],\n",
       " [-0.5, -0.9, 0.1]]"
      ]
     },
     "execution_count": 32,
     "metadata": {},
     "output_type": "execute_result"
    }
   ],
   "source": [
    "conv_1D3C"
   ]
  },
  {
   "cell_type": "markdown",
   "metadata": {},
   "source": [
    "## 3 channel 1D convolution with padding and pooling (through time)"
   ]
  },
  {
   "cell_type": "markdown",
   "metadata": {},
   "source": [
    "### max-pooling "
   ]
  },
  {
   "cell_type": "code",
   "execution_count": 34,
   "metadata": {},
   "outputs": [
    {
     "data": {
      "text/plain": [
       "array([0.3, 1.6, 1.4])"
      ]
     },
     "execution_count": 34,
     "metadata": {},
     "output_type": "execute_result"
    }
   ],
   "source": [
    "np.max(conv_1D3C, axis=0)"
   ]
  },
  {
   "cell_type": "markdown",
   "metadata": {},
   "source": [
    "### average-pooling "
   ]
  },
  {
   "cell_type": "code",
   "execution_count": 36,
   "metadata": {},
   "outputs": [
    {
     "data": {
      "text/plain": [
       "array([-0.87,  0.26,  0.53])"
      ]
     },
     "execution_count": 36,
     "metadata": {},
     "output_type": "execute_result"
    }
   ],
   "source": [
    "np.around(np.mean(conv_1D3C, axis=0), decimals=2)"
   ]
  },
  {
   "cell_type": "markdown",
   "metadata": {},
   "source": [
    "## other less useful notions "
   ]
  },
  {
   "cell_type": "markdown",
   "metadata": {},
   "source": [
    "### stride"
   ]
  },
  {
   "cell_type": "code",
   "execution_count": 44,
   "metadata": {},
   "outputs": [],
   "source": [
    "def get_conv_stride(t, ks, stride=1):\n",
    "    return [[np.around(np.sum(t[i:i+3, :] * k), decimals=1) \n",
    "            for k in ks] \n",
    "            for i in range(0, t.shape[0] - 2, stride)\n",
    "            ]"
   ]
  },
  {
   "cell_type": "code",
   "execution_count": 46,
   "metadata": {},
   "outputs": [
    {
     "data": {
      "text/plain": [
       "[[-0.6, 0.2, 1.4], [-0.5, -0.1, 0.8], [-0.2, 0.1, 1.2], [-0.5, -0.9, 0.1]]"
      ]
     },
     "execution_count": 46,
     "metadata": {},
     "output_type": "execute_result"
    }
   ],
   "source": [
    "get_conv_stride(text_pad, kernels, stride=2)"
   ]
  },
  {
   "cell_type": "markdown",
   "metadata": {},
   "source": [
    "### local pooling"
   ]
  },
  {
   "cell_type": "code",
   "execution_count": 68,
   "metadata": {},
   "outputs": [],
   "source": [
    "def get_local_pooling(t, stride=2):\n",
    "    return np.array([np.max(t[i:i+stride], axis=0) for i in range(0, t.shape[0], stride)])"
   ]
  },
  {
   "cell_type": "code",
   "execution_count": 61,
   "metadata": {},
   "outputs": [],
   "source": [
    "conv_1D3C = np.array(conv_1D3C)"
   ]
  },
  {
   "cell_type": "code",
   "execution_count": 62,
   "metadata": {},
   "outputs": [],
   "source": [
    "conv_1D3C_pad = np.zeros((conv_1D3C.shape[0]+1, conv_1D3C.shape[1]))"
   ]
  },
  {
   "cell_type": "code",
   "execution_count": 63,
   "metadata": {},
   "outputs": [
    {
     "data": {
      "text/plain": [
       "((8, 3), (7, 3))"
      ]
     },
     "execution_count": 63,
     "metadata": {},
     "output_type": "execute_result"
    }
   ],
   "source": [
    "conv_1D3C_pad.shape, conv_1D3C.shape"
   ]
  },
  {
   "cell_type": "code",
   "execution_count": 64,
   "metadata": {},
   "outputs": [],
   "source": [
    "conv_1D3C_pad[:conv_1D3C.shape[0], :] = conv_1D3C.copy()"
   ]
  },
  {
   "cell_type": "code",
   "execution_count": 65,
   "metadata": {},
   "outputs": [],
   "source": [
    "conv_1D3C_pad[conv_1D3C.shape[0]] = -math.inf"
   ]
  },
  {
   "cell_type": "code",
   "execution_count": 66,
   "metadata": {},
   "outputs": [
    {
     "data": {
      "text/plain": [
       "array([[-0.6,  0.2,  1.4],\n",
       "       [-1. ,  1.6, -1. ],\n",
       "       [-0.5, -0.1,  0.8],\n",
       "       [-3.6,  0.3,  0.3],\n",
       "       [-0.2,  0.1,  1.2],\n",
       "       [ 0.3,  0.6,  0.9],\n",
       "       [-0.5, -0.9,  0.1],\n",
       "       [-inf, -inf, -inf]])"
      ]
     },
     "execution_count": 66,
     "metadata": {},
     "output_type": "execute_result"
    }
   ],
   "source": [
    "conv_1D3C_pad"
   ]
  },
  {
   "cell_type": "code",
   "execution_count": 69,
   "metadata": {},
   "outputs": [
    {
     "data": {
      "text/plain": [
       "array([[-0.6,  1.6,  1.4],\n",
       "       [-0.5,  0.3,  0.8],\n",
       "       [ 0.3,  0.6,  1.2],\n",
       "       [-0.5, -0.9,  0.1]])"
      ]
     },
     "execution_count": 69,
     "metadata": {},
     "output_type": "execute_result"
    }
   ],
   "source": [
    "get_local_pooling(conv_1D3C_pad)"
   ]
  },
  {
   "cell_type": "markdown",
   "metadata": {},
   "source": [
    "### k-max pooling "
   ]
  },
  {
   "cell_type": "code",
   "execution_count": 70,
   "metadata": {},
   "outputs": [],
   "source": [
    "x = np.array([-.6, -1., -.5, -3.6, -.2, .3, -.5])"
   ]
  },
  {
   "cell_type": "code",
   "execution_count": 76,
   "metadata": {},
   "outputs": [
    {
     "data": {
      "text/plain": [
       "array([-0.2,  0.3])"
      ]
     },
     "execution_count": 76,
     "metadata": {},
     "output_type": "execute_result"
    }
   ],
   "source": [
    "np.sort(x)[-2:]"
   ]
  },
  {
   "cell_type": "code",
   "execution_count": 77,
   "metadata": {},
   "outputs": [
    {
     "data": {
      "text/plain": [
       "array([[-0.6,  0.2,  1.4],\n",
       "       [-1. ,  1.6, -1. ],\n",
       "       [-0.5, -0.1,  0.8],\n",
       "       [-3.6,  0.3,  0.3],\n",
       "       [-0.2,  0.1,  1.2],\n",
       "       [ 0.3,  0.6,  0.9],\n",
       "       [-0.5, -0.9,  0.1]])"
      ]
     },
     "execution_count": 77,
     "metadata": {},
     "output_type": "execute_result"
    }
   ],
   "source": [
    "conv_1D3C"
   ]
  },
  {
   "cell_type": "code",
   "execution_count": 78,
   "metadata": {},
   "outputs": [
    {
     "data": {
      "text/plain": [
       "array([[-3.6, -0.9, -1. ],\n",
       "       [-1. , -0.1,  0.1],\n",
       "       [-0.6,  0.1,  0.3],\n",
       "       [-0.5,  0.2,  0.8],\n",
       "       [-0.5,  0.3,  0.9],\n",
       "       [-0.2,  0.6,  1.2],\n",
       "       [ 0.3,  1.6,  1.4]])"
      ]
     },
     "execution_count": 78,
     "metadata": {},
     "output_type": "execute_result"
    }
   ],
   "source": [
    "np.sort(conv_1D3C, axis=0)"
   ]
  },
  {
   "cell_type": "code",
   "execution_count": 79,
   "metadata": {},
   "outputs": [
    {
     "data": {
      "text/plain": [
       "array([[-0.2,  0.6,  1.2],\n",
       "       [ 0.3,  1.6,  1.4]])"
      ]
     },
     "execution_count": 79,
     "metadata": {},
     "output_type": "execute_result"
    }
   ],
   "source": [
    "np.sort(conv_1D3C, axis=0)[-2:, :]"
   ]
  },
  {
   "cell_type": "markdown",
   "metadata": {},
   "source": [
    "### dilation"
   ]
  },
  {
   "cell_type": "code",
   "execution_count": 80,
   "metadata": {},
   "outputs": [],
   "source": [
    "kernels_dilation = np.array([\n",
    "    [[2, 3, 1], [1, -1, -1], [3, 1, 0]],\n",
    "    [[1, 3, 1], [1, -1, -1], [3, 1, -1]]\n",
    "])"
   ]
  },
  {
   "cell_type": "code",
   "execution_count": 87,
   "metadata": {},
   "outputs": [
    {
     "data": {
      "text/plain": [
       "array([[[ 2,  3,  1],\n",
       "        [ 1, -1, -1],\n",
       "        [ 3,  1,  0]],\n",
       "\n",
       "       [[ 1,  3,  1],\n",
       "        [ 1, -1, -1],\n",
       "        [ 3,  1, -1]]])"
      ]
     },
     "execution_count": 87,
     "metadata": {},
     "output_type": "execute_result"
    }
   ],
   "source": [
    "kernels_dilation"
   ]
  },
  {
   "cell_type": "code",
   "execution_count": 83,
   "metadata": {},
   "outputs": [
    {
     "data": {
      "text/plain": [
       "array([[-0.6,  0.2,  1.4],\n",
       "       [-1. ,  1.6, -1. ],\n",
       "       [-0.5, -0.1,  0.8],\n",
       "       [-3.6,  0.3,  0.3],\n",
       "       [-0.2,  0.1,  1.2],\n",
       "       [ 0.3,  0.6,  0.9],\n",
       "       [-0.5, -0.9,  0.1]])"
      ]
     },
     "execution_count": 83,
     "metadata": {},
     "output_type": "execute_result"
    }
   ],
   "source": [
    "conv_1D3C"
   ]
  },
  {
   "cell_type": "code",
   "execution_count": 109,
   "metadata": {},
   "outputs": [],
   "source": [
    "def get_conv_dilation(conv_arr):\n",
    "    conv_dil = np.array([\n",
    "        get_conv(conv_arr[[i, i+2, i+4], :], kernels_dilation)\n",
    "        for i in range(3)\n",
    "    ])\n",
    "    return conv_dil.reshape(conv_dil.shape[0], conv_dil.shape[2])"
   ]
  },
  {
   "cell_type": "code",
   "execution_count": 110,
   "metadata": {},
   "outputs": [],
   "source": [
    "conv_dilation = get_conv_dilation(conv_1D3C)"
   ]
  },
  {
   "cell_type": "code",
   "execution_count": 111,
   "metadata": {},
   "outputs": [
    {
     "data": {
      "text/plain": [
       "array([[-0.9, -1.5],\n",
       "       [-0.9, -0.8],\n",
       "       [-4.4, -4. ]])"
      ]
     },
     "execution_count": 111,
     "metadata": {},
     "output_type": "execute_result"
    }
   ],
   "source": [
    "conv_dilation"
   ]
  },
  {
   "cell_type": "code",
   "execution_count": null,
   "metadata": {},
   "outputs": [],
   "source": []
  },
  {
   "cell_type": "code",
   "execution_count": null,
   "metadata": {},
   "outputs": [],
   "source": []
  },
  {
   "cell_type": "code",
   "execution_count": null,
   "metadata": {},
   "outputs": [],
   "source": []
  },
  {
   "cell_type": "code",
   "execution_count": null,
   "metadata": {},
   "outputs": [],
   "source": []
  },
  {
   "cell_type": "code",
   "execution_count": null,
   "metadata": {},
   "outputs": [],
   "source": []
  },
  {
   "cell_type": "code",
   "execution_count": null,
   "metadata": {},
   "outputs": [],
   "source": []
  },
  {
   "cell_type": "code",
   "execution_count": null,
   "metadata": {},
   "outputs": [],
   "source": []
  },
  {
   "cell_type": "code",
   "execution_count": null,
   "metadata": {},
   "outputs": [],
   "source": []
  },
  {
   "cell_type": "code",
   "execution_count": null,
   "metadata": {},
   "outputs": [],
   "source": []
  },
  {
   "cell_type": "code",
   "execution_count": null,
   "metadata": {},
   "outputs": [],
   "source": []
  },
  {
   "cell_type": "code",
   "execution_count": null,
   "metadata": {},
   "outputs": [],
   "source": []
  },
  {
   "cell_type": "code",
   "execution_count": null,
   "metadata": {},
   "outputs": [],
   "source": []
  }
 ],
 "metadata": {
  "kernelspec": {
   "display_name": "Python 3",
   "language": "python",
   "name": "python3"
  },
  "language_info": {
   "codemirror_mode": {
    "name": "ipython",
    "version": 3
   },
   "file_extension": ".py",
   "mimetype": "text/x-python",
   "name": "python",
   "nbconvert_exporter": "python",
   "pygments_lexer": "ipython3",
   "version": "3.6.9"
  }
 },
 "nbformat": 4,
 "nbformat_minor": 2
}
